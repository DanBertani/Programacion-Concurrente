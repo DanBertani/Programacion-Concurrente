{
 "cells": [
  {
   "cell_type": "markdown",
   "metadata": {
    "id": "mdjDysDEjN87"
   },
   "source": [
    "## Programación Concurrente\n",
    "# Segundo Parcial\n",
    "\n",
    "Contesta según se te indique. En caso de que la pregunta sea teórica, escribe el texto con la respuesta correcta.\n",
    "\n",
    "Al finalizar, descarga el archivo en formato **.ipynb** y cárgalo en Blackboard. Tienes máximo una hora para entregarlo, contando desde que entres al espacio en Blackboard.\n",
    "\n",
    "Son 10 preguntas.\n",
    "\n"
   ]
  },
  {
   "cell_type": "markdown",
   "metadata": {
    "id": "BIp5lZX1j1-y"
   },
   "source": [
    "1. Crea una implementación, usando `threading`, del siguiente problema:\n",
    "\n",
    "a) Si tu ID es par, que tu programa cree dos listas: una que incluya los números pares entre 50 y 100 (inclusive), y otra que guarde los números impares.\n",
    "\n",
    "b) Si tu ID es impar, que tu programa cree dos listas: una que incluya los primeros 10 números divisibles entre 3, y otra que guarde los primeros 10 números divisibles entre 5."
   ]
  },
  {
   "cell_type": "code",
   "execution_count": 3,
   "metadata": {
    "id": "nNx6DN7Tlp5c"
   },
   "outputs": [
    {
     "name": "stdout",
     "output_type": "stream",
     "text": [
      "Números pares entre 50 y 100: [50, 52, 54, 56, 58, 60, 62, 64, 66, 68, 70, 72, 74, 76, 78, 80, 82, 84, 86, 88, 90, 92, 94, 96, 98, 100]\n",
      "Números impares entre 50 y 100: [51, 53, 55, 57, 59, 61, 63, 65, 67, 69, 71, 73, 75, 77, 79, 81, 83, 85, 87, 89, 91, 93, 95, 97, 99]\n"
     ]
    }
   ],
   "source": [
    "import threading\n",
    "\n",
    "def num_pares():\n",
    "    even_numbers = [i for i in range(50, 101) if i % 2 == 0]\n",
    "    print(\"Números pares entre 50 y 100:\", even_numbers)\n",
    "\n",
    "def num_nones():\n",
    "    odd_numbers = [i for i in range(50, 101) if i % 2 != 0]\n",
    "    print(\"Números impares entre 50 y 100:\", odd_numbers)\n",
    "\n",
    "# Crear hilos para cada función\n",
    "par_hilo = threading.Thread(target=num_pares)\n",
    "non_hilo = threading.Thread(target=num_nones)\n",
    "\n",
    "# Iniciar los hilos\n",
    "par_hilo.start()\n",
    "non_hilo.start()\n",
    "\n",
    "# Esperar a que los hilos terminen\n",
    "par_hilo.join()\n",
    "non_hilo.join()"
   ]
  },
  {
   "cell_type": "markdown",
   "metadata": {
    "id": "pQtc4GAWlqJy"
   },
   "source": [
    "2. Para el problema que te tocó anteriormente, crea una implementación usando `multiprocessing`, definiendo manualmente los procesos."
   ]
  },
  {
   "cell_type": "code",
   "execution_count": 4,
   "metadata": {
    "id": "mrKTFUUDmS0f"
   },
   "outputs": [],
   "source": [
    "import multiprocessing\n",
    "\n",
    "def num_pares():\n",
    "    even_numbers = [i for i in range(50, 101) if i % 2 == 0]\n",
    "    print(\"Números pares entre 50 y 100:\", even_numbers)\n",
    "\n",
    "def num_nones():\n",
    "    odd_numbers = [i for i in range(50, 101) if i % 2 != 0]\n",
    "    print(\"Números impares entre 50 y 100:\", odd_numbers)\n",
    "\n",
    "if __name__ == \"__main__\":\n",
    "    # Crear procesos para cada función\n",
    "    par_proceso = multiprocessing.Process(target=num_pares)\n",
    "    non_proceso = multiprocessing.Process(target=num_nones)\n",
    "\n",
    "    # Iniciar los procesos\n",
    "    par_proceso.start()\n",
    "    non_proceso.start()\n",
    "\n",
    "    # Esperar a que los procesos terminen\n",
    "    par_proceso.join()\n",
    "    non_proceso.join()"
   ]
  },
  {
   "cell_type": "markdown",
   "metadata": {},
   "source": [
    "Por más que lo modifique no corre el resultado \n"
   ]
  },
  {
   "cell_type": "markdown",
   "metadata": {
    "id": "2CQcvIrtmTGR"
   },
   "source": [
    "3. Para el mismo problema, crea una implementación usando un `pool` de `multiprocessing`."
   ]
  },
  {
   "cell_type": "markdown",
   "metadata": {},
   "source": [
    "Tardó mucho en correr y no mas no acaba y trabo mi jupyter"
   ]
  },
  {
   "cell_type": "code",
   "execution_count": null,
   "metadata": {
    "id": "bLQOmZwhmZlO"
   },
   "outputs": [],
   "source": [
    "import multiprocessing\n",
    "\n",
    "def num_pares():\n",
    "    even_numbers = [i for i in range(50, 101) if i % 2 == 0]\n",
    "    print(\"Números pares entre 50 y 100:\", even_numbers)\n",
    "\n",
    "def num_nones():\n",
    "    odd_numbers = [i for i in range(50, 101) if i % 2 != 0]\n",
    "    print(\"Números impares entre 50 y 100:\", odd_numbers)\n",
    "\n",
    "if __name__ == \"__main__\":\n",
    "    # Crear un pool de procesos\n",
    "    with multiprocessing.Pool() as pool:\n",
    "        # Ejecutar las funciones en el pool de procesos\n",
    "        pool.apply_async(num_pares)\n",
    "        pool.apply_async(num_nones)\n",
    "\n",
    "        # Esperar a que todos los procesos terminen\n",
    "        pool.close()\n",
    "        pool.join()"
   ]
  },
  {
   "cell_type": "markdown",
   "metadata": {
    "id": "YtKcusnOmfmB"
   },
   "source": [
    "4. Define, en tus propias palabras, el concepto de Deadlock en Programación Concurrente."
   ]
  },
  {
   "cell_type": "markdown",
   "metadata": {
    "id": "PjLtU79gmm5i"
   },
   "source": [
    "Es cuando dos o más procesos o hilos quedan bloqueados esperando a que otros liberen los recursos, haciendo que ninguno puedo continuar con la tarea. Esto provoca que se queden detenidos de forma indefinidada ya que necesitan los recursos pero alguno otro lo retiene"
   ]
  },
  {
   "cell_type": "markdown",
   "metadata": {
    "id": "kGz3WU8GnK_P"
   },
   "source": [
    "5. Escribe, en tus propias palabras, por qué no vale tanto la pena usar multi hilos para programar de manera concurrente en Python."
   ]
  },
  {
   "cell_type": "markdown",
   "metadata": {
    "id": "KosClqM-nSay"
   },
   "source": [
    "Usar multihilos no siempre llegar ser muy eficaz debido a la existencia del GIL (Global Interpreter Lock), ya que este bloqueo genera que los hilos no se puedan ejecutar simultaneamente durante el proceso, aunque si se crean correctamente se terminan ejecutando secuencialmente. En algunas ocasiones si llega a ser más rápido el multihilos pero de manera general provoca más problemas"
   ]
  },
  {
   "cell_type": "markdown",
   "metadata": {
    "id": "Ek3iqe-mnj-6"
   },
   "source": [
    "6. ¿Qué concepto está ejemplificado en la siguiente imagen?\n",
    "\n",
    "![Dibujo](https://miro.medium.com/v2/resize:fit:1284/1*k5-2pI7op4jd0whsPmWbLA.jpeg)\n",
    "\n"
   ]
  },
  {
   "cell_type": "markdown",
   "metadata": {
    "id": "a333HQ6NwXrF"
   },
   "source": [
    "Es el MapReduce"
   ]
  },
  {
   "cell_type": "markdown",
   "metadata": {
    "id": "23GaoMR50Qvx"
   },
   "source": [
    "7. Corrige el siguiente código para que ejecute correctamente. Tip, sólo hay que cambiar una única línea, relacionada al uso correcto de la librería `threading`"
   ]
  },
  {
   "cell_type": "code",
   "execution_count": 3,
   "metadata": {
    "id": "esngWBIy0doJ",
    "scrolled": true
   },
   "outputs": [
    {
     "name": "stderr",
     "output_type": "stream",
     "text": [
      "Exception in thread Thread-45 (download_thread):\n",
      "Traceback (most recent call last):\n",
      "  File \"C:\\ProgramData\\anaconda3\\Lib\\threading.py\", line 1038, in _bootstrap_inner\n",
      "Exception in thread Thread-46 (download_thread):\n",
      "Traceback (most recent call last):\n",
      "  File \"C:\\ProgramData\\anaconda3\\Lib\\threading.py\", line 1038, in _bootstrap_inner\n",
      "Exception in thread Thread-47 (download_thread):\n",
      "Traceback (most recent call last):\n",
      "  File \"C:\\ProgramData\\anaconda3\\Lib\\threading.py\", line 1038, in _bootstrap_inner\n",
      "    self.run()\n",
      "  File \"C:\\ProgramData\\anaconda3\\Lib\\threading.py\", line 975, in run\n",
      "Exception in thread Thread-48 (download_thread):\n",
      "Traceback (most recent call last):\n",
      "  File \"C:\\ProgramData\\anaconda3\\Lib\\threading.py\", line 1038, in _bootstrap_inner\n",
      "Exception in thread Thread-49 (download_thread):\n",
      "Traceback (most recent call last):\n",
      "  File \"C:\\ProgramData\\anaconda3\\Lib\\threading.py\", line 1038, in _bootstrap_inner\n",
      "    self.run()\n",
      "  File \"C:\\ProgramData\\anaconda3\\Lib\\threading.py\", line 975, in run\n",
      "    self.run()\n",
      "  File \"C:\\ProgramData\\anaconda3\\Lib\\threading.py\", line 975, in run\n",
      "Exception in thread Thread-50 (download_thread):\n",
      "Traceback (most recent call last):\n",
      "  File \"C:\\ProgramData\\anaconda3\\Lib\\threading.py\", line 1038, in _bootstrap_inner\n",
      "    self._target(*self._args, **self._kwargs)\n",
      "  File \"C:\\Users\\Bertani\\AppData\\Local\\Temp\\ipykernel_20984\\3635181074.py\", line 15, in download_thread\n",
      "    self.run()\n",
      "  File \"C:\\ProgramData\\anaconda3\\Lib\\threading.py\", line 975, in run\n",
      "Exception in thread Thread-51 (download_thread):\n",
      "Traceback (most recent call last):\n",
      "  File \"C:\\ProgramData\\anaconda3\\Lib\\threading.py\", line 1038, in _bootstrap_inner\n",
      "    self.run()\n",
      "  File \"C:\\ProgramData\\anaconda3\\Lib\\threading.py\", line 975, in run\n",
      "Exception in thread Thread-52 (download_thread):\n",
      "Traceback (most recent call last):\n",
      "  File \"C:\\ProgramData\\anaconda3\\Lib\\threading.py\", line 1038, in _bootstrap_inner\n",
      "    self._target(*self._args, **self._kwargs)\n",
      "  File \"C:\\Users\\Bertani\\AppData\\Local\\Temp\\ipykernel_20984\\3635181074.py\", line 15, in download_thread\n",
      "    self.run()\n",
      "  File \"C:\\ProgramData\\anaconda3\\Lib\\threading.py\", line 975, in run\n",
      "    self._target(*self._args, **self._kwargs)\n",
      "  File \"C:\\Users\\Bertani\\AppData\\Local\\Temp\\ipykernel_20984\\3635181074.py\", line 15, in download_thread\n",
      "Exception in thread Thread-53 (download_thread):\n",
      "Traceback (most recent call last):\n",
      "  File \"C:\\ProgramData\\anaconda3\\Lib\\threading.py\", line 1038, in _bootstrap_inner\n",
      "    self._target(*self._args, **self._kwargs)\n",
      "  File \"C:\\Users\\Bertani\\AppData\\Local\\Temp\\ipykernel_20984\\3635181074.py\", line 15, in download_thread\n",
      "Exception in thread Thread-54 (download_thread):\n",
      "Traceback (most recent call last):\n",
      "  File \"C:\\ProgramData\\anaconda3\\Lib\\threading.py\", line 1038, in _bootstrap_inner\n",
      "    self.run()\n",
      "  File \"C:\\ProgramData\\anaconda3\\Lib\\threading.py\", line 975, in run\n",
      "    self.run()\n",
      "  File \"C:\\ProgramData\\anaconda3\\Lib\\threading.py\", line 975, in run\n",
      "    self.run()\n",
      "  File \"C:\\ProgramData\\anaconda3\\Lib\\threading.py\", line 975, in run\n",
      "Exception in thread Thread-55 (download_thread):\n",
      "Traceback (most recent call last):\n",
      "  File \"C:\\ProgramData\\anaconda3\\Lib\\threading.py\", line 1038, in _bootstrap_inner\n",
      "NameError: name 'download_url' is not defined\n",
      "    self._target(*self._args, **self._kwargs)\n",
      "  File \"C:\\Users\\Bertani\\AppData\\Local\\Temp\\ipykernel_20984\\3635181074.py\", line 15, in download_thread\n",
      "Exception in thread Thread-56 (download_thread):\n",
      "Traceback (most recent call last):\n",
      "  File \"C:\\ProgramData\\anaconda3\\Lib\\threading.py\", line 1038, in _bootstrap_inner\n",
      "    self._target(*self._args, **self._kwargs)\n",
      "  File \"C:\\Users\\Bertani\\AppData\\Local\\Temp\\ipykernel_20984\\3635181074.py\", line 15, in download_thread\n",
      "NameError: name 'download_url' is not defined\n",
      "    self.run()\n",
      "  File \"C:\\ProgramData\\anaconda3\\Lib\\threading.py\", line 975, in run\n",
      "NameError: name 'download_url' is not defined\n",
      "NameError: name 'download_url' is not defined\n",
      "Exception in thread Thread-57 (download_thread):\n",
      "Traceback (most recent call last):\n",
      "  File \"C:\\ProgramData\\anaconda3\\Lib\\threading.py\", line 1038, in _bootstrap_inner\n",
      "    self._target(*self._args, **self._kwargs)\n",
      "  File \"C:\\Users\\Bertani\\AppData\\Local\\Temp\\ipykernel_20984\\3635181074.py\", line 15, in download_thread\n",
      "    self._target(*self._args, **self._kwargs)\n",
      "  File \"C:\\Users\\Bertani\\AppData\\Local\\Temp\\ipykernel_20984\\3635181074.py\", line 15, in download_thread\n",
      "Exception in thread Thread-58 (download_thread):\n",
      "Traceback (most recent call last):\n",
      "  File \"C:\\ProgramData\\anaconda3\\Lib\\threading.py\", line 1038, in _bootstrap_inner\n",
      "    self._target(*self._args, **self._kwargs)\n",
      "  File \"C:\\Users\\Bertani\\AppData\\Local\\Temp\\ipykernel_20984\\3635181074.py\", line 15, in download_thread\n",
      "Exception in thread Thread-59 (download_thread):\n",
      "Traceback (most recent call last):\n",
      "  File \"C:\\ProgramData\\anaconda3\\Lib\\threading.py\", line 1038, in _bootstrap_inner\n",
      "    self._target(*self._args, **self._kwargs)\n",
      "  File \"C:\\Users\\Bertani\\AppData\\Local\\Temp\\ipykernel_20984\\3635181074.py\", line 15, in download_thread\n",
      "    self.run()\n",
      "  File \"C:\\ProgramData\\anaconda3\\Lib\\threading.py\", line 975, in run\n",
      "NameError: name 'download_url' is not defined\n",
      "NameError: name 'download_url' is not defined\n",
      "Exception in thread Thread-60 (download_thread):\n",
      "Traceback (most recent call last):\n",
      "  File \"C:\\ProgramData\\anaconda3\\Lib\\threading.py\", line 1038, in _bootstrap_inner\n",
      "    self.run()\n",
      "  File \"C:\\ProgramData\\anaconda3\\Lib\\threading.py\", line 975, in run\n",
      "    self.run()\n",
      "  File \"C:\\ProgramData\\anaconda3\\Lib\\threading.py\", line 975, in run\n",
      "    self.run()\n",
      "  File \"C:\\ProgramData\\anaconda3\\Lib\\threading.py\", line 975, in run\n",
      "    self.run()\n",
      "  File \"C:\\ProgramData\\anaconda3\\Lib\\threading.py\", line 975, in run\n",
      "Exception in thread Thread-61 (download_thread):\n",
      "Traceback (most recent call last):\n",
      "  File \"C:\\ProgramData\\anaconda3\\Lib\\threading.py\", line 1038, in _bootstrap_inner\n",
      "NameError: name 'download_url' is not defined\n",
      "NameError: name 'download_url' is not defined\n",
      "NameError: name 'download_url' is not defined\n",
      "    self._target(*self._args, **self._kwargs)\n",
      "  File \"C:\\Users\\Bertani\\AppData\\Local\\Temp\\ipykernel_20984\\3635181074.py\", line 15, in download_thread\n",
      "Exception in thread Thread-62 (download_thread):\n",
      "Traceback (most recent call last):\n",
      "  File \"C:\\ProgramData\\anaconda3\\Lib\\threading.py\", line 1038, in _bootstrap_inner\n",
      "Exception in thread Thread-63 (download_thread):\n",
      "Traceback (most recent call last):\n",
      "  File \"C:\\ProgramData\\anaconda3\\Lib\\threading.py\", line 1038, in _bootstrap_inner\n",
      "NameError: name 'download_url' is not defined\n",
      "    self._target(*self._args, **self._kwargs)\n",
      "  File \"C:\\Users\\Bertani\\AppData\\Local\\Temp\\ipykernel_20984\\3635181074.py\", line 15, in download_thread\n",
      "    self._target(*self._args, **self._kwargs)\n",
      "  File \"C:\\Users\\Bertani\\AppData\\Local\\Temp\\ipykernel_20984\\3635181074.py\", line 15, in download_thread\n",
      "    self.run()\n",
      "  File \"C:\\ProgramData\\anaconda3\\Lib\\threading.py\", line 975, in run\n",
      "    self._target(*self._args, **self._kwargs)\n",
      "  File \"C:\\Users\\Bertani\\AppData\\Local\\Temp\\ipykernel_20984\\3635181074.py\", line 15, in download_thread\n",
      "Exception in thread Thread-64 (download_thread):\n",
      "Traceback (most recent call last):\n",
      "  File \"C:\\ProgramData\\anaconda3\\Lib\\threading.py\", line 1038, in _bootstrap_inner\n",
      "    self._target(*self._args, **self._kwargs)\n",
      "  File \"C:\\Users\\Bertani\\AppData\\Local\\Temp\\ipykernel_20984\\3635181074.py\", line 15, in download_thread\n",
      "    self.run()\n",
      "  File \"C:\\ProgramData\\anaconda3\\Lib\\threading.py\", line 975, in run\n",
      "NameError: name 'download_url' is not defined\n",
      "    self.run()\n",
      "  File \"C:\\ProgramData\\anaconda3\\Lib\\threading.py\", line 975, in run\n",
      "    self.run()\n",
      "  File \"C:\\ProgramData\\anaconda3\\Lib\\threading.py\", line 975, in run\n",
      "NameError: name 'download_url' is not defined\n",
      "    self._target(*self._args, **self._kwargs)\n",
      "  File \"C:\\Users\\Bertani\\AppData\\Local\\Temp\\ipykernel_20984\\3635181074.py\", line 15, in download_thread\n",
      "    self.run()\n",
      "  File \"C:\\ProgramData\\anaconda3\\Lib\\threading.py\", line 975, in run\n",
      "    self._target(*self._args, **self._kwargs)\n",
      "  File \"C:\\Users\\Bertani\\AppData\\Local\\Temp\\ipykernel_20984\\3635181074.py\", line 15, in download_thread\n",
      "NameError: name 'download_url' is not defined\n",
      "NameError: name 'download_url' is not defined\n",
      "    self._target(*self._args, **self._kwargs)\n",
      "  File \"C:\\Users\\Bertani\\AppData\\Local\\Temp\\ipykernel_20984\\3635181074.py\", line 15, in download_thread\n",
      "NameError: name 'download_url' is not defined\n",
      "    self._target(*self._args, **self._kwargs)\n",
      "  File \"C:\\Users\\Bertani\\AppData\\Local\\Temp\\ipykernel_20984\\3635181074.py\", line 15, in download_thread\n",
      "NameError: name 'download_url' is not defined\n",
      "NameError: name 'download_url' is not defined\n",
      "    self._target(*self._args, **self._kwargs)\n",
      "  File \"C:\\Users\\Bertani\\AppData\\Local\\Temp\\ipykernel_20984\\3635181074.py\", line 15, in download_thread\n",
      "NameError: name 'download_url' is not defined\n",
      "NameError: name 'download_url' is not defined\n",
      "NameError: name 'download_url' is not defined\n"
     ]
    }
   ],
   "source": [
    "import time\n",
    "import requests\n",
    "import threading\n",
    "\n",
    "# Crea una lista de URLs\n",
    "urls = ['https://myanimelist.net/anime/{}'.format(i) for i in range(1, 21)]\n",
    "\n",
    "# Función usando Multithreading\n",
    "def download_all_urls_multithreading(urls):\n",
    "    contents = []\n",
    "    threads = []\n",
    "\n",
    "    # Descarga el contenido de cada página web\n",
    "    def download_thread(url):\n",
    "        content = download_url(url)\n",
    "        contents.append(content)\n",
    "\n",
    "    # Crea un hilo distinto para cada descarga\n",
    "    for url in urls:\n",
    "        #thread = threading.Thread(target=download_thread, args=url)\n",
    "        ##El cambio se realizó en la parte del args, ahora cada hilo recibe correctamente un solo argumento url como una tupla\n",
    "        thread = threading.Thread(target=download_thread, args=(url,))\n",
    "        threads.append(thread)\n",
    "        thread.start()\n",
    "\n",
    "    # Espera a que todos los hilos terminen\n",
    "    for thread in threads:\n",
    "        thread.join()\n",
    "\n",
    "    return contents\n",
    "\n",
    "\n",
    "contents_multithreading = download_all_urls_multithreading(urls)"
   ]
  },
  {
   "cell_type": "markdown",
   "metadata": {
    "id": "tjcrtGom2cxy"
   },
   "source": [
    "8. Si tu código ejecutó correctamente, la implementación con threading fue mucho más rápida. (puedes ejecutar la siguiente celda para verificarlo, quizá tengas que ejecutarla más de una vez).\n",
    "\n",
    "Eso, quizá, pueda contradecir una respuesta que diste a una pregunta anterior. Responde: ¿Qué hay de diferente en este ejemplo?"
   ]
  },
  {
   "cell_type": "code",
   "execution_count": 6,
   "metadata": {
    "colab": {
     "base_uri": "https://localhost:8080/"
    },
    "id": "Eyvt8iBT04IN",
    "outputId": "170306f5-9540-4aa8-b7a7-aeefe0f7f3db"
   },
   "outputs": [
    {
     "name": "stdout",
     "output_type": "stream",
     "text": [
      "Tiempo con método Secuencial: 11.29 seconds\n",
      "Tiempo usando multithreading: 1.16 seconds\n"
     ]
    }
   ],
   "source": [
    "# Función para descargar urls Secuenciallemte.\n",
    "def download_url(url):\n",
    "    response = requests.get(url)\n",
    "    if response.status_code == 200:\n",
    "        return response.text\n",
    "    else:\n",
    "        return None\n",
    "\n",
    "# Método Secuencial\n",
    "def download_all_urls(urls):\n",
    "    contents = []\n",
    "    for url in urls:\n",
    "        content = download_url(url)\n",
    "        contents.append(content)\n",
    "    return contents\n",
    "\n",
    "# Medir el Tiempo Secuencial\n",
    "start_time = time.time()\n",
    "contents_normal = download_all_urls(urls)\n",
    "end_time = time.time()\n",
    "time_normal = end_time - start_time\n",
    "\n",
    "# Print the time taken by the normal function\n",
    "print('Tiempo con método Secuencial: {:.2f} seconds'.format(time_normal))\n",
    "\n",
    "# Medir el Tiempo con Multithreading\n",
    "start_time = time.time()\n",
    "contents_multithreading = download_all_urls_multithreading(urls)\n",
    "end_time = time.time()\n",
    "time_multithreading = end_time - start_time\n",
    "\n",
    "# Print the time taken by the multithreading function\n",
    "print('Tiempo usando multithreading: {:.2f} seconds'.format(time_multithreading))\n",
    "#plt.show()"
   ]
  },
  {
   "cell_type": "markdown",
   "metadata": {
    "id": "GMu20Uot3l59"
   },
   "source": [
    "La principal diferencia en porqué en estos casos funciona mejor la manera con multihilos es en que se realizan solicitudes de red y no de CPU que es donde aparece el problema del GIL\n",
    "Es decir en la parte donde se hace la solicitud de la url es donde mejora ya que utilizando multihilos un hilo mientras está esperando una respuesta, otro ya estaría realizando la solicitud y así con los demás hilos, en cambio cuando la manera secuencia debe esperar a que el programa termine un solicitud para poder proceder o iniciar la siguiente y así consecutivamente haciendo que el proceso sea más lento\n",
    "Por lo tanto, el multihilos mejora el tiempo de descarga ya que puede generar multiples solicitudes y si puede realizar correctasmente la concurrencia."
   ]
  },
  {
   "cell_type": "markdown",
   "metadata": {
    "id": "SXvqsDAZ3lGm"
   },
   "source": [
    "9. Explica, en tus propias palabras, ¿qué es la *Lazy Execution* de Spark?"
   ]
  },
  {
   "cell_type": "markdown",
   "metadata": {
    "id": "Nxhde8Bl31sl"
   },
   "source": [
    "Es una característica que optimiza el procesamiento de datos antes de ejecutar alguna acción o tarea, o sea, no se ejecuta inmediatamente cada operación sino que espera algun acción específica para evaluar y ejecutarlas"
   ]
  },
  {
   "cell_type": "markdown",
   "metadata": {
    "id": "pvN-zLGK30c9"
   },
   "source": [
    "10. Contesta según tu primer apellido (paterno, normalmente):\n",
    "\n",
    "a) Si tu primer apellido empieza con las letras A-M (alfabéticamente):\n",
    "- Explica qué hace un Worker Node dentro de la arquitectura de Spark.\n",
    "\n",
    "\n",
    "b) Si tu primer apellido empieza con las letras N-Z (alfabéticamente):\n",
    "- Explica por qué es importante definir *SparkSession* al empezar a trabajar en Spark."
   ]
  },
  {
   "cell_type": "markdown",
   "metadata": {
    "id": "PG9tByc4w1eG"
   },
   "source": [
    "En donde se realizan todas las operaciones que fueron dirigidas por un driver y esta a su vez lo reparte en executers los cuales realizan la tarea de manera paralela. Este hace las operaciones con respecto a los datos disponibles "
   ]
  },
  {
   "cell_type": "code",
   "execution_count": null,
   "metadata": {},
   "outputs": [],
   "source": []
  }
 ],
 "metadata": {
  "colab": {
   "provenance": []
  },
  "kernelspec": {
   "display_name": "Python 3 (ipykernel)",
   "language": "python",
   "name": "python3"
  },
  "language_info": {
   "codemirror_mode": {
    "name": "ipython",
    "version": 3
   },
   "file_extension": ".py",
   "mimetype": "text/x-python",
   "name": "python",
   "nbconvert_exporter": "python",
   "pygments_lexer": "ipython3",
   "version": "3.11.4"
  }
 },
 "nbformat": 4,
 "nbformat_minor": 1
}
