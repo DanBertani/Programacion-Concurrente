{
 "cells": [
  {
   "cell_type": "code",
   "execution_count": 2,
   "id": "56d03864",
   "metadata": {},
   "outputs": [],
   "source": [
    "import threading\n",
    "import numpy as np"
   ]
  },
  {
   "cell_type": "code",
   "execution_count": 8,
   "id": "d79b86f5",
   "metadata": {},
   "outputs": [],
   "source": [
    "a=10\n",
    "b=15"
   ]
  },
  {
   "cell_type": "code",
   "execution_count": 4,
   "id": "ee913025",
   "metadata": {},
   "outputs": [],
   "source": [
    "def log(a,b):\n",
    "    print(\"El logaritmo natural es \", np.log(a+b))"
   ]
  },
  {
   "cell_type": "code",
   "execution_count": 6,
   "id": "396c0682",
   "metadata": {},
   "outputs": [],
   "source": [
    "def abso(a,b):\n",
    "    print(\"El valor absoluto de a-b es: \", np.abs(a - b))"
   ]
  },
  {
   "cell_type": "code",
   "execution_count": 3,
   "id": "638d9d9c",
   "metadata": {},
   "outputs": [],
   "source": [
    "def potencia(a,b):\n",
    "    print(\"La respuesta es: \", a**b)"
   ]
  },
  {
   "cell_type": "code",
   "execution_count": 21,
   "id": "a93a2903",
   "metadata": {
    "scrolled": false
   },
   "outputs": [
    {
     "name": "stdout",
     "output_type": "stream",
     "text": [
      "El logaritmo natural es  3.2188758248682006\n",
      "El valor absoluto de a-b es:  5\n",
      "La respuesta es:  1000000000000000\n",
      "CPU times: total: 0 ns\n",
      "Wall time: 12.7 ms\n"
     ]
    }
   ],
   "source": [
    "%%time\n",
    "t1 = threading.Thread(target=log, args=(a,b))\n",
    "t2 = threading.Thread(target=abso, args=(a,b))\n",
    "t3 = threading.Thread(target=potencia, args=(a,b))\n",
    "\n",
    "t1.start()\n",
    "t2.start()\n",
    "t3.start()\n",
    "\n",
    "t1.join()\n",
    "t2.join()\n",
    "t3.join()"
   ]
  },
  {
   "cell_type": "code",
   "execution_count": 26,
   "id": "1a9aaa07",
   "metadata": {},
   "outputs": [
    {
     "name": "stdout",
     "output_type": "stream",
     "text": [
      "El logaritmo natural es  3.2188758248682006\n",
      "El valor absoluto de a-b es:  5\n",
      "La respuesta es:  1000000000000000\n",
      "CPU times: total: 0 ns\n",
      "Wall time: 5.45 ms\n"
     ]
    }
   ],
   "source": [
    "%%time\n",
    "t1 = threading.Thread(target=log, args=(a,b))\n",
    "t2 = threading.Thread(target=abso, args=(a,b))\n",
    "t3 = threading.Thread(target=potencia, args=(a,b))\n",
    "\n",
    "t1.start()\n",
    "t2.start()\n",
    "t3.start()\n",
    "\n",
    "t1.join(timeout=1000000)\n",
    "t2.join(timeout=.01)\n",
    "t3.join(timeout=0.00000001)"
   ]
  },
  {
   "cell_type": "code",
   "execution_count": 23,
   "id": "73c831fc",
   "metadata": {},
   "outputs": [
    {
     "name": "stdout",
     "output_type": "stream",
     "text": [
      "El logaritmo natural es El valor absoluto de a-b es:  5\n",
      " 3.2188758248682006\n",
      "La respuesta es:  1000000000000000\n",
      "CPU times: total: 15.6 ms\n",
      "Wall time: 6.98 ms\n"
     ]
    }
   ],
   "source": [
    "%%time\n",
    "t1 = threading.Thread(target=log, args=(a,b))\n",
    "t2 = threading.Thread(target=abso, args=(a,b))\n",
    "t3 = threading.Thread(target=potencia, args=(a,b))\n",
    "\n",
    "t1.start()\n",
    "t2.start()\n",
    "t3.start()\n",
    "\n",
    "t1.join(timeout=100)\n",
    "t2.join(timeout=2)\n",
    "t3.join(timeout=0.00000001)"
   ]
  },
  {
   "cell_type": "markdown",
   "id": "22450072",
   "metadata": {},
   "source": [
    "Al irle cambiando los valores del timeout, se puedo observar que hay una diferencia en el CPU times y en el Wall time, además, se puede observar que al t1 al ponerle un timeout de 100 le das 100 tiempos para ejecutar la función, mientras que al t2 solo le das 2 segundos, lo cual provoca que se ejecute t2 entre la ejecución de t1, ya que tiene menos tiempo para lograrlo, entonces como que interrumple la tarea, se ejecuta el t2 y vuelve a terminar de ejecutarse t1"
   ]
  },
  {
   "cell_type": "code",
   "execution_count": null,
   "id": "e3b06938",
   "metadata": {},
   "outputs": [],
   "source": []
  }
 ],
 "metadata": {
  "kernelspec": {
   "display_name": "Python 3 (ipykernel)",
   "language": "python",
   "name": "python3"
  },
  "language_info": {
   "codemirror_mode": {
    "name": "ipython",
    "version": 3
   },
   "file_extension": ".py",
   "mimetype": "text/x-python",
   "name": "python",
   "nbconvert_exporter": "python",
   "pygments_lexer": "ipython3",
   "version": "3.11.4"
  }
 },
 "nbformat": 4,
 "nbformat_minor": 5
}
