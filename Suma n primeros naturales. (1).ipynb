{
 "cells": [
  {
   "cell_type": "code",
   "execution_count": 1,
   "id": "567ac192",
   "metadata": {},
   "outputs": [],
   "source": [
    "import time"
   ]
  },
  {
   "cell_type": "code",
   "execution_count": 8,
   "id": "618102f9",
   "metadata": {},
   "outputs": [],
   "source": [
    "# Función que calcula la suma con un ciclo\n",
    "def suma_ciclo(n):\n",
    "    suma = 0\n",
    "    for i in range(1, n + 1):\n",
    "        suma += i\n",
    "    return suma\n",
    "\n"
   ]
  },
  {
   "cell_type": "code",
   "execution_count": 9,
   "id": "99760285",
   "metadata": {},
   "outputs": [],
   "source": [
    "# Función que calcula la suma usando la fórmula general\n",
    "def suma_formula(n):\n",
    "    return n * (n + 1) // 2"
   ]
  },
  {
   "cell_type": "code",
   "execution_count": 10,
   "id": "8409768d",
   "metadata": {},
   "outputs": [
    {
     "name": "stdout",
     "output_type": "stream",
     "text": [
      "Resultado usando ciclo: 5050 (Tiempo: 0.0 segundos)\n"
     ]
    }
   ],
   "source": [
    "# Definimos el valor de n\n",
    "n = 100\n",
    "\n",
    "# Medir el tiempo de la función con ciclo\n",
    "start_time = time.time()\n",
    "resultado_ciclo = suma_ciclo(n)\n",
    "end_time = time.time()\n",
    "tiempo_ciclo = end_time - start_time\n",
    "\n",
    "print(f\"Resultado usando ciclo: {resultado_ciclo} (Tiempo: {tiempo_ciclo} segundos)\")\n",
    "\n"
   ]
  },
  {
   "cell_type": "code",
   "execution_count": 11,
   "id": "c1eaf5bb",
   "metadata": {},
   "outputs": [
    {
     "name": "stdout",
     "output_type": "stream",
     "text": [
      "Resultado usando fórmula: 5050 (Tiempo: 0.0 segundos)\n"
     ]
    }
   ],
   "source": [
    "n=100\n",
    "# Medir el tiempo de la función con fórmula\n",
    "start_time = time.time()\n",
    "resultado_formula = suma_formula(n)\n",
    "end_time = time.time()\n",
    "tiempo_formula = end_time - start_time\n",
    "\n",
    "print(f\"Resultado usando fórmula: {resultado_formula} (Tiempo: {tiempo_formula} segundos)\")"
   ]
  },
  {
   "cell_type": "code",
   "execution_count": null,
   "id": "cdd58058",
   "metadata": {},
   "outputs": [],
   "source": []
  }
 ],
 "metadata": {
  "kernelspec": {
   "display_name": "Python 3 (ipykernel)",
   "language": "python",
   "name": "python3"
  },
  "language_info": {
   "codemirror_mode": {
    "name": "ipython",
    "version": 3
   },
   "file_extension": ".py",
   "mimetype": "text/x-python",
   "name": "python",
   "nbconvert_exporter": "python",
   "pygments_lexer": "ipython3",
   "version": "3.11.4"
  }
 },
 "nbformat": 4,
 "nbformat_minor": 5
}
