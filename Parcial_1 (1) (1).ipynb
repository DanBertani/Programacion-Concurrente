{
 "cells": [
  {
   "cell_type": "markdown",
   "metadata": {
    "id": "mdjDysDEjN87"
   },
   "source": [
    "## Programación Concurrente\n",
    "# Primer Parcial\n",
    "\n",
    "Contesta según se te indique. En caso de que la pregunta sea teórica, escribe el texto con la respuesta correcta.\n",
    "\n",
    "AL finalizar, descarga el archivo en formato **.ipynb** y cárgalo en Blackboard. Tienes máximo una hora para entregarlo, contando desde que entres al espacio en Blackboard.\n",
    "\n",
    "Son 10 preguntas.\n",
    "\n"
   ]
  },
  {
   "cell_type": "markdown",
   "metadata": {
    "id": "c69zRLYNnCyo"
   },
   "source": [
    "1. Comenta el siguiente código, indicando las distintas partes de un Algoritmo Secuencial \"Tradicional\" (3)"
   ]
  },
  {
   "cell_type": "code",
   "execution_count": null,
   "metadata": {
    "id": "8oqU2oZImsbr"
   },
   "outputs": [],
   "source": [
    "#Inicialización de variables / Entradas\n",
    "Foo = 5\n",
    "Bar = 10\n",
    "\n",
    "##Procesos\n",
    "a = Foo.get_something()         #Operaciones\n",
    "b = Bar.get_something_else()\n",
    "\n",
    "output.append(a)\n",
    "output.append(b)\n",
    "#Hasta aquí llega la parte de procesos \n",
    "\n",
    "print(output) #Salidas "
   ]
  },
  {
   "cell_type": "markdown",
   "metadata": {
    "id": "2JrkjoORn02z"
   },
   "source": [
    "2. En Matemáticas Financieras, podemos calcular el valor futuro (usando interés compuesto) de la siguiente manera.\n",
    "\n",
    "$VF = (1+i)^n$\n",
    "\n",
    "Programa una Función, **usando recursión en Python**, que calcule el valor futuro de la inversión en n meses. La i (interés) será constante, usando *los dos últimos digitos de tu ID de la universidad*"
   ]
  },
  {
   "cell_type": "code",
   "execution_count": 5,
   "metadata": {
    "id": "gx0uJ0SipGim"
   },
   "outputs": [],
   "source": [
    "def interes_compuesto(i, n):\n",
    "    if n == 0: #Si n es 0 regresa 1 ya que no aumenta el interés ya que solo es aplicable a meses \n",
    "        return 1\n",
    "    else:\n",
    "        return (1 + i) * interes_compuesto(i, n - 1)  ## Parte recursiva "
   ]
  },
  {
   "cell_type": "code",
   "execution_count": 10,
   "metadata": {},
   "outputs": [
    {
     "name": "stdout",
     "output_type": "stream",
     "text": [
      "El valor futuro de la inversión es: 4.25\n"
     ]
    }
   ],
   "source": [
    "i = .62  # Mi ID es 174762 por eso i es igual a 62% \n",
    "n = 3   ## Meses\n",
    "\n",
    "# Calculate the future value\n",
    "vf = interes_compuesto(i, n)\n",
    "print(f\"El valor futuro de la inversión es: {vf:.2f}\")"
   ]
  },
  {
   "cell_type": "markdown",
   "metadata": {
    "id": "ddJV1P1Yp5Dw"
   },
   "source": [
    "3. ¿Cuál de las siguientes complejidades será complejidad NP-completa?\n",
    "\n",
    "a) $O(n^3)$\n",
    "\n",
    "b) $O(log_2 n)$\n",
    "\n",
    "c) $O(sin(n))$\n",
    "\n",
    "d) $O(n^2)$\n",
    "\n"
   ]
  },
  {
   "cell_type": "markdown",
   "metadata": {
    "id": "byf2C77IqGvt"
   },
   "source": [
    "### c) O(sin(n))"
   ]
  },
  {
   "cell_type": "markdown",
   "metadata": {
    "id": "3yNwTxlJqogT"
   },
   "source": [
    "4. Tienes la siguiente lista:\n",
    "\n",
    "```\n",
    "['Antonio', 'Carlos', 'Diana', 'Luis', 'Mariana', 'Mario', 'Ricardo', 'Scarlett', 'Tristán', 'Valeria']\n",
    "```\n",
    "Si quiero usar Búsqueda Binaria (Binary Search) para verificar si **'Mario'** está en la lista, ¿qué valores estaré usando para comparar y en qué orden?\n",
    "\n",
    "Ejemplo de Respuesta: 'Ricardo', 'Tristán', 'Valeria', 'Mario'\n",
    "\n",
    "\n",
    "Te dejo un ejemplo del Algoritmo en código, por si lo ocupas:\n",
    "\n",
    "```\n",
    "def binarySearch(alist, item):\n",
    "  first = 0\n",
    "  last = len(alist)-1\n",
    "  found = False\n",
    "\n",
    "  while first<=last and not found:\n",
    "    midpoint = (first + last)//2\n",
    "    if alist[midpoint] == item:\n",
    "      found = True\n",
    "    else:\n",
    "      if item < alist[midpoint]:\n",
    "        last = midpoint-1\n",
    "      else:\n",
    "        first = midpoint+1\n",
    "\n",
    "  return found\n",
    "```\n",
    "\n"
   ]
  },
  {
   "cell_type": "markdown",
   "metadata": {
    "id": "qdPyxLfkrhfQ"
   },
   "source": [
    " Respuesta:\n",
    " ### 'Mariana', 'Scarlett', 'Mario'"
   ]
  },
  {
   "cell_type": "markdown",
   "metadata": {
    "id": "LKrHJDX9tKsa"
   },
   "source": [
    "5. Trabajo en una empresa de transporte y requiero hacer 5 entregas, todas sobre la Recta a Cholula. Tengo capacidad de hacerlo de tres maneras distintas:\n",
    "\n",
    "a) Voy a dejar un paquete al punto de entrega y regreso al almacen. Recojo el siguiente paquete y lo voy a entregar. Así, hasta que termine.\n",
    "\n",
    "b) Me llevo los cinco paquetes al mismo tiempo. Como todos los paquetes están en la misma calle, voy entregando uno por uno, conforme voy llegando a los puntos de entrega.\n",
    "\n",
    "c) Tengo dos camiones de entrega. Cada uno va y deja un paquete al punto de entrega y regresa al almacen. Mientras aún haya paquetes, tomo otro y vuelvo a salir.\n",
    "\n",
    "Relaciona cada letra con el concepto que estaría aplicando: \"Secuencial\", \"Concurrencia\", \"Paralelismo\"."
   ]
  },
  {
   "cell_type": "markdown",
   "metadata": {
    "id": "B02bjC3BvgLd"
   },
   "source": [
    "### a) Secuencial \n",
    "### b) Concurrencia\n",
    "### c) Paralelismo "
   ]
  },
  {
   "cell_type": "markdown",
   "metadata": {
    "id": "4ef2OlT6voj_"
   },
   "source": [
    "6. En el ejemplo anterior, ¿cuál funcionaría más rápido? Justifica tu respuesta."
   ]
  },
  {
   "cell_type": "markdown",
   "metadata": {
    "id": "WalT4P9yv6hV"
   },
   "source": [
    "#### b)  ya que solo requiere el tiempo de un solo viaje de ida y el tiempo de entregas mientras que los otros a tienen el n idas y n-1 regresadas provocando más gasto de tiempo"
   ]
  },
  {
   "cell_type": "markdown",
   "metadata": {
    "id": "ugfADTYLv7Bs"
   },
   "source": [
    "7. En el mismo ejemplo, ¿se podría modificar mi solución, para combinar paralelismo y concurrencia? Justifica tu respuesta."
   ]
  },
  {
   "cell_type": "markdown",
   "metadata": {
    "id": "oLY23N7cwDT3"
   },
   "source": [
    "#### Si, que ambos camiones que se tienen se dividan los paquetes y vayan entregando todos los que están en la misma calle sin necesidad de tener que volver al almacén "
   ]
  },
  {
   "cell_type": "markdown",
   "metadata": {
    "id": "qkYV256rwEA9"
   },
   "source": [
    "8. Crea una lista con los digitos de tu ID. Por ejemplo, el viejo ID de estudiante del profesor es '143915', así que mi lista quedaría así:\n",
    "\n",
    "`[1, 4, 3, 9, 1, 5]`\n",
    "\n",
    "Haz lo mismo con tu propio ID. Contesta: si aplico el _Buble Sort_, ¿cómo se vería mi lista después de dos pasadas?"
   ]
  },
  {
   "cell_type": "markdown",
   "metadata": {
    "id": "wPx6UyqVwOWn"
   },
   "source": [
    "## Respuesta\n",
    "\n",
    "l1 = [1, 7, 4, 7, 6, 2]\n",
    "\n",
    "y aplicando el bubble sort \n",
    "- 1<7, no se cambia\n",
    "- 7>4, se cambia [1, 4, 7, 7, 8, 2]\n",
    "- 7=7, no se cambia\n",
    "- 7>6, se cambia [1,4,7,6,7,2]\n",
    "- 7>2, se cambia [1,4,7,6,2,7]\n",
    "\n",
    "Iteración 2 \n",
    "- 1<4, no se cambia\n",
    "- 4<7, no se cambia\n",
    "- 7>6, se cambia [1,4,6,7,2,7]\n",
    "- 7>2, se cambia [1,4,6,2,7,7]\n",
    "- 7=7, no se cambia [1,4,6,2,7,7]\n",
    "\n",
    "Mi lista se varía [1,4,6,2,7,7] despues de 2 pasadas"
   ]
  },
  {
   "cell_type": "markdown",
   "metadata": {
    "id": "NI_GUPv_wwFt"
   },
   "source": [
    "9. Explica en tus propias palabras la diferencia entre un Hilo y un Proceso."
   ]
  },
  {
   "cell_type": "markdown",
   "metadata": {
    "id": "PG9tByc4w1eG"
   },
   "source": [
    "### Respuesta: \n",
    "Un hilo es una parte del proceso donde los distintos hilos pueden compartir memoria entre sí y para el sistema operativo es práctico trabajar entre hilos \n",
    "Mientras que el proceso es un programa donde la memoria no se comparte entre procesos y a comparación de los hilos cambiar de procesos es difícil\n"
   ]
  },
  {
   "cell_type": "markdown",
   "metadata": {
    "id": "-LqhX191w2hM"
   },
   "source": [
    "10. En Concurrencia, ¿qué concepto está ilustrado en la siguiente imagen?\n",
    "\n",
    "![Dibujo](https://media.geeksforgeeks.org/wp-content/uploads/20230628121708/Mutual-Exclusion-2.png)"
   ]
  },
  {
   "cell_type": "markdown",
   "metadata": {
    "id": "gnoQdrteyvv0"
   },
   "source": [
    "## Respuesta\n",
    "### La de la Exclusión Mutua "
   ]
  },
  {
   "cell_type": "code",
   "execution_count": null,
   "metadata": {},
   "outputs": [],
   "source": []
  }
 ],
 "metadata": {
  "colab": {
   "provenance": []
  },
  "kernelspec": {
   "display_name": "Python 3 (ipykernel)",
   "language": "python",
   "name": "python3"
  },
  "language_info": {
   "codemirror_mode": {
    "name": "ipython",
    "version": 3
   },
   "file_extension": ".py",
   "mimetype": "text/x-python",
   "name": "python",
   "nbconvert_exporter": "python",
   "pygments_lexer": "ipython3",
   "version": "3.11.4"
  }
 },
 "nbformat": 4,
 "nbformat_minor": 1
}
